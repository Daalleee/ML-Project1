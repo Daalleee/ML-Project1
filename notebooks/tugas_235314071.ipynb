{
  "cells": [
    {
      "cell_type": "code",
      "execution_count": null,
      "metadata": {
        "colab": {
          "base_uri": "https://localhost:8080/"
        },
        "id": "03ixmrdfCkH4",
        "outputId": "badc9aec-85a3-4bf3-ee06-b2a63d40bf66"
      },
      "outputs": [
        {
          "name": "stdout",
          "output_type": "stream",
          "text": [
            "File tidak ditemukan! Harap unggah file terlebih dahulu.\n"
          ]
        }
      ],
      "source": [
        "import pandas as pd\n",
        "import numpy as np\n",
        "import os\n",
        "from sklearn.preprocessing import MinMaxScaler\n",
        "\n",
        "# Cek apakah file tersedia di path yang benar\n",
        "file_path = \"winequality-red.csv\"  # Sesuaikan path sesuai lokasi file\n",
        "\n",
        "if not os.path.exists(file_path):\n",
        "    print(\"File tidak ditemukan! Harap unggah file terlebih dahulu.\")\n",
        "else:\n",
        "    print(\"File ditemukan! Memulai pre-processing...\")\n",
        "\n",
        "    # Load dataset\n",
        "    df = pd.read_csv(file_path, delimiter=';')\n",
        "\n",
        "    # Menampilkan informasi awal dataset\n",
        "    print(\"\\nInformasi Dataset:\")\n",
        "    print(df.info())\n",
        "\n",
        "    print(\"\\nCek jumlah missing values:\")\n",
        "    print(df.isnull().sum())\n",
        "\n",
        "    print(\"\\nCek jumlah data duplikat:\")\n",
        "    print(f\"Jumlah data duplikat: {df.duplicated().sum()}\")\n",
        "\n",
        "    # Cek nilai unik pada kolom object untuk menemukan anomali\n",
        "    print(\"\\nMemeriksa nilai unik dalam kolom bertipe object...\")\n",
        "    for col in df.select_dtypes(include=['object']).columns:\n",
        "        print(f\"{col}: {df[col].unique()[:10]}\")  # Tampilkan 10 nilai unik pertama\n",
        "\n",
        "    # Fungsi untuk membersihkan format angka sebelum konversi ke float\n",
        "    def clean_numeric(value):\n",
        "        try:\n",
        "            value = value.replace(',', '.')  # Ubah koma menjadi titik\n",
        "            value = ''.join([c for c in value if c.isdigit() or c == '.'])  # Hapus karakter non-numerik\n",
        "            return float(value)  # Konversi ke float\n",
        "        except:\n",
        "            return np.nan  # Jika gagal, ganti dengan NaN untuk diperbaiki nanti\n",
        "\n",
        "    # Terapkan ke semua kolom bertipe object\n",
        "    for col in df.select_dtypes(include=['object']).columns:\n",
        "        df[col] = df[col].apply(clean_numeric)\n",
        "\n",
        "    # Cek kembali jika masih ada missing values setelah konversi\n",
        "    print(\"\\nCek missing values setelah konversi:\")\n",
        "    print(df.isnull().sum())\n",
        "\n",
        "    # Fungsi untuk mengecek apakah dataset butuh pre-processing\n",
        "    def needs_preprocessing(df):\n",
        "        if df.isnull().sum().sum() > 0:  # Cek missing values\n",
        "            return True\n",
        "        if df.duplicated().sum() > 0:  # Cek duplikasi\n",
        "            return True\n",
        "        return False\n",
        "\n",
        "    # Jika butuh pre-processing, lakukan penanganan\n",
        "    if needs_preprocessing(df):\n",
        "        print(\"\\nDataset membutuhkan pre-processing...\")\n",
        "\n",
        "        # Hapus duplikasi\n",
        "        df = df.drop_duplicates()\n",
        "\n",
        "        # Isi missing values dengan median\n",
        "        df.fillna(df.median(), inplace=True)\n",
        "\n",
        "    else:\n",
        "        print(\"\\nDataset sudah bersih, hanya akan dilakukan normalisasi.\")\n",
        "\n",
        "    # Normalisasi dengan MinMaxScaler\n",
        "    scaler = MinMaxScaler()\n",
        "    df.iloc[:, :-1] = scaler.fit_transform(df.iloc[:, :-1])  # Semua kolom kecuali 'quality'\n",
        "\n",
        "    # Simpan dataset yang sudah diproses\n",
        "    output_file = \"winequality-red-processed.csv\"\n",
        "    df.to_csv(output_file, index=False)\n",
        "\n",
        "    print(f\"\\nPre-processing selesai! Dataset disimpan sebagai '{output_file}'.\")\n"
      ]
    }
  ],
  "metadata": {
    "colab": {
      "provenance": []
    },
    "kernelspec": {
      "display_name": "Python 3",
      "name": "python3"
    },
    "language_info": {
      "codemirror_mode": {
        "name": "ipython",
        "version": 3
      },
      "file_extension": ".py",
      "mimetype": "text/x-python",
      "name": "python",
      "nbconvert_exporter": "python",
      "pygments_lexer": "ipython3",
      "version": "3.13.2"
    }
  },
  "nbformat": 4,
  "nbformat_minor": 0
}
